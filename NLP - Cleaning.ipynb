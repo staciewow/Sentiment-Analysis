{
 "cells": [
  {
   "cell_type": "code",
   "execution_count": 2,
   "metadata": {},
   "outputs": [],
   "source": [
    "import pandas as pd\n",
    "df = pd.read_csv('train.csv', encoding = 'latin-1')"
   ]
  },
  {
   "cell_type": "code",
   "execution_count": 4,
   "metadata": {},
   "outputs": [
    {
     "data": {
      "text/html": [
       "<div>\n",
       "<style scoped>\n",
       "    .dataframe tbody tr th:only-of-type {\n",
       "        vertical-align: middle;\n",
       "    }\n",
       "\n",
       "    .dataframe tbody tr th {\n",
       "        vertical-align: top;\n",
       "    }\n",
       "\n",
       "    .dataframe thead th {\n",
       "        text-align: right;\n",
       "    }\n",
       "</style>\n",
       "<table border=\"1\" class=\"dataframe\">\n",
       "  <thead>\n",
       "    <tr style=\"text-align: right;\">\n",
       "      <th></th>\n",
       "      <th>ItemID</th>\n",
       "      <th>Sentiment</th>\n",
       "      <th>SentimentText</th>\n",
       "    </tr>\n",
       "  </thead>\n",
       "  <tbody>\n",
       "    <tr>\n",
       "      <th>0</th>\n",
       "      <td>1</td>\n",
       "      <td>0</td>\n",
       "      <td>is so sad for my APL frie...</td>\n",
       "    </tr>\n",
       "    <tr>\n",
       "      <th>1</th>\n",
       "      <td>2</td>\n",
       "      <td>0</td>\n",
       "      <td>I missed the New Moon trail...</td>\n",
       "    </tr>\n",
       "    <tr>\n",
       "      <th>2</th>\n",
       "      <td>3</td>\n",
       "      <td>1</td>\n",
       "      <td>omg its already 7:30 :O</td>\n",
       "    </tr>\n",
       "  </tbody>\n",
       "</table>\n",
       "</div>"
      ],
      "text/plain": [
       "   ItemID  Sentiment                                      SentimentText\n",
       "0       1          0                       is so sad for my APL frie...\n",
       "1       2          0                     I missed the New Moon trail...\n",
       "2       3          1                            omg its already 7:30 :O"
      ]
     },
     "execution_count": 4,
     "metadata": {},
     "output_type": "execute_result"
    }
   ],
   "source": [
    "df.head(3)"
   ]
  },
  {
   "cell_type": "markdown",
   "metadata": {},
   "source": [
    "1. remove stopwords"
   ]
  },
  {
   "cell_type": "code",
   "execution_count": 9,
   "metadata": {},
   "outputs": [],
   "source": [
    "from nltk.corpus import stopwords\n",
    "stop = stopwords.words(\"english\")\n",
    "df['s1'] = df['SentimentText'].apply(lambda x: ' '.join([word for word in x.split() if word not in (stop)]))"
   ]
  },
  {
   "cell_type": "markdown",
   "metadata": {},
   "source": [
    "2. replace special char and abbreiations"
   ]
  },
  {
   "cell_type": "code",
   "execution_count": 12,
   "metadata": {},
   "outputs": [],
   "source": [
    "import csv, re\n",
    "\n",
    "def translator(user_string):\n",
    "    user_string = user_string.split(\" \")\n",
    "    j = 0\n",
    "    for _str in user_string:\n",
    "        FileName = \"slang.txt\"\n",
    "        \n",
    "        with open(FileName, \"r\") as slang_txt:\n",
    "            slang = csv.reader(slang_txt, delimiter = \"=\")\n",
    "            _str = re.sub('[^a-zA-Z0-9]+', '', _str)\n",
    "            for row in slang:\n",
    "                if _str.upper() == row[0]:\n",
    "                    user_string[j] = row[1]\n",
    "            slang_txt.close()\n",
    "        j = j + 1\n",
    "    return ' '.join(user_string)"
   ]
  },
  {
   "cell_type": "code",
   "execution_count": 13,
   "metadata": {},
   "outputs": [],
   "source": [
    "df['s2'] = df['s1'].apply(lambda x: translator(x))"
   ]
  },
  {
   "cell_type": "markdown",
   "metadata": {},
   "source": [
    "3. stemming"
   ]
  },
  {
   "cell_type": "code",
   "execution_count": 22,
   "metadata": {},
   "outputs": [],
   "source": [
    "from nltk.stem import PorterStemmer \n",
    "stemmer = PorterStemmer() \n",
    "df['s3'] = df['s2'].apply(lambda x: ' '.join([stemmer.stem(word) for word in x.split()]))"
   ]
  },
  {
   "cell_type": "markdown",
   "metadata": {},
   "source": [
    "4. Lemmazation"
   ]
  },
  {
   "cell_type": "code",
   "execution_count": 24,
   "metadata": {},
   "outputs": [],
   "source": [
    "from nltk.stem.wordnet import WordNetLemmatizer\n",
    "lemma = WordNetLemmatizer()\n",
    "df['s4'] = df['s3'].apply(lambda x: ' '.join([lemma.lemmatize(word, 'v') for word in x.split()]))"
   ]
  },
  {
   "cell_type": "markdown",
   "metadata": {},
   "source": [
    "5. pos-tag"
   ]
  },
  {
   "cell_type": "code",
   "execution_count": 26,
   "metadata": {},
   "outputs": [],
   "source": [
    "import nltk\n",
    "df['s5'] = df['s4'].apply(lambda x: nltk.pos_tag(nltk.word_tokenize(x)))"
   ]
  },
  {
   "cell_type": "markdown",
   "metadata": {},
   "source": [
    "6. Capitalization"
   ]
  },
  {
   "cell_type": "code",
   "execution_count": 37,
   "metadata": {},
   "outputs": [],
   "source": [
    "df['s6'] = df['s4'].apply(lambda x: ' '.join([word.lower() for word in x.split()]))"
   ]
  },
  {
   "cell_type": "code",
   "execution_count": 38,
   "metadata": {},
   "outputs": [
    {
     "data": {
      "text/html": [
       "<div>\n",
       "<style scoped>\n",
       "    .dataframe tbody tr th:only-of-type {\n",
       "        vertical-align: middle;\n",
       "    }\n",
       "\n",
       "    .dataframe tbody tr th {\n",
       "        vertical-align: top;\n",
       "    }\n",
       "\n",
       "    .dataframe thead th {\n",
       "        text-align: right;\n",
       "    }\n",
       "</style>\n",
       "<table border=\"1\" class=\"dataframe\">\n",
       "  <thead>\n",
       "    <tr style=\"text-align: right;\">\n",
       "      <th></th>\n",
       "      <th>ItemID</th>\n",
       "      <th>Sentiment</th>\n",
       "      <th>SentimentText</th>\n",
       "      <th>s1</th>\n",
       "      <th>s2</th>\n",
       "      <th>s3</th>\n",
       "      <th>s4</th>\n",
       "      <th>s5</th>\n",
       "      <th>s6</th>\n",
       "    </tr>\n",
       "  </thead>\n",
       "  <tbody>\n",
       "    <tr>\n",
       "      <th>0</th>\n",
       "      <td>1</td>\n",
       "      <td>0</td>\n",
       "      <td>is so sad for my APL frie...</td>\n",
       "      <td>sad APL friend.............</td>\n",
       "      <td>sad APL friend.............</td>\n",
       "      <td>sad apl friend.............</td>\n",
       "      <td>sad apl friend.............</td>\n",
       "      <td>[(sad, JJ), (apl, NN), (friend, NN), (..., :),...</td>\n",
       "      <td>sad apl friend.............</td>\n",
       "    </tr>\n",
       "    <tr>\n",
       "      <th>1</th>\n",
       "      <td>2</td>\n",
       "      <td>0</td>\n",
       "      <td>I missed the New Moon trail...</td>\n",
       "      <td>I missed New Moon trailer...</td>\n",
       "      <td>I missed New Moon trailer...</td>\n",
       "      <td>I miss new moon trailer...</td>\n",
       "      <td>I miss new moon trailer...</td>\n",
       "      <td>[(I, PRP), (miss, VBP), (new, JJ), (moon, NN),...</td>\n",
       "      <td>i miss new moon trailer...</td>\n",
       "    </tr>\n",
       "    <tr>\n",
       "      <th>2</th>\n",
       "      <td>3</td>\n",
       "      <td>1</td>\n",
       "      <td>omg its already 7:30 :O</td>\n",
       "      <td>omg already 7:30 :O</td>\n",
       "      <td>omg already 7:30 :O</td>\n",
       "      <td>omg alreadi 7:30 :O</td>\n",
       "      <td>omg alreadi 7:30 :O</td>\n",
       "      <td>[(omg, JJ), (alreadi, VBZ), (7:30, CD), (:, :)...</td>\n",
       "      <td>omg alreadi 7:30 :o</td>\n",
       "    </tr>\n",
       "    <tr>\n",
       "      <th>3</th>\n",
       "      <td>4</td>\n",
       "      <td>0</td>\n",
       "      <td>.. Omgaga. Im sooo  im gunna CRy. I'...</td>\n",
       "      <td>.. Omgaga. Im sooo im gunna CRy. I've dentist ...</td>\n",
       "      <td>.. Omgaga. Im sooo im gunna CRy. I've dentist ...</td>\n",
       "      <td>.. omgaga. Im sooo im gunna cry. i'v dentist s...</td>\n",
       "      <td>.. omgaga. Im sooo im gunna cry. i'v dentist s...</td>\n",
       "      <td>[(.., JJ), (omgaga, NN), (., .), (Im, NNP), (s...</td>\n",
       "      <td>.. omgaga. im sooo im gunna cry. i'v dentist s...</td>\n",
       "    </tr>\n",
       "    <tr>\n",
       "      <th>4</th>\n",
       "      <td>5</td>\n",
       "      <td>0</td>\n",
       "      <td>i think mi bf is cheating on me!!!   ...</td>\n",
       "      <td>think mi bf cheating me!!! T_T</td>\n",
       "      <td>think mi bf cheating me!!! T_T</td>\n",
       "      <td>think mi bf cheat me!!! t_t</td>\n",
       "      <td>think mi bf cheat me!!! t_t</td>\n",
       "      <td>[(think, VB), (mi, NNS), (bf, VBP), (cheat, VB...</td>\n",
       "      <td>think mi bf cheat me!!! t_t</td>\n",
       "    </tr>\n",
       "  </tbody>\n",
       "</table>\n",
       "</div>"
      ],
      "text/plain": [
       "   ItemID  Sentiment                                      SentimentText  \\\n",
       "0       1          0                       is so sad for my APL frie...   \n",
       "1       2          0                     I missed the New Moon trail...   \n",
       "2       3          1                            omg its already 7:30 :O   \n",
       "3       4          0            .. Omgaga. Im sooo  im gunna CRy. I'...   \n",
       "4       5          0           i think mi bf is cheating on me!!!   ...   \n",
       "\n",
       "                                                  s1  \\\n",
       "0                        sad APL friend.............   \n",
       "1                       I missed New Moon trailer...   \n",
       "2                                omg already 7:30 :O   \n",
       "3  .. Omgaga. Im sooo im gunna CRy. I've dentist ...   \n",
       "4                     think mi bf cheating me!!! T_T   \n",
       "\n",
       "                                                  s2  \\\n",
       "0                        sad APL friend.............   \n",
       "1                       I missed New Moon trailer...   \n",
       "2                                omg already 7:30 :O   \n",
       "3  .. Omgaga. Im sooo im gunna CRy. I've dentist ...   \n",
       "4                     think mi bf cheating me!!! T_T   \n",
       "\n",
       "                                                  s3  \\\n",
       "0                        sad apl friend.............   \n",
       "1                         I miss new moon trailer...   \n",
       "2                                omg alreadi 7:30 :O   \n",
       "3  .. omgaga. Im sooo im gunna cry. i'v dentist s...   \n",
       "4                        think mi bf cheat me!!! t_t   \n",
       "\n",
       "                                                  s4  \\\n",
       "0                        sad apl friend.............   \n",
       "1                         I miss new moon trailer...   \n",
       "2                                omg alreadi 7:30 :O   \n",
       "3  .. omgaga. Im sooo im gunna cry. i'v dentist s...   \n",
       "4                        think mi bf cheat me!!! t_t   \n",
       "\n",
       "                                                  s5  \\\n",
       "0  [(sad, JJ), (apl, NN), (friend, NN), (..., :),...   \n",
       "1  [(I, PRP), (miss, VBP), (new, JJ), (moon, NN),...   \n",
       "2  [(omg, JJ), (alreadi, VBZ), (7:30, CD), (:, :)...   \n",
       "3  [(.., JJ), (omgaga, NN), (., .), (Im, NNP), (s...   \n",
       "4  [(think, VB), (mi, NNS), (bf, VBP), (cheat, VB...   \n",
       "\n",
       "                                                  s6  \n",
       "0                        sad apl friend.............  \n",
       "1                         i miss new moon trailer...  \n",
       "2                                omg alreadi 7:30 :o  \n",
       "3  .. omgaga. im sooo im gunna cry. i'v dentist s...  \n",
       "4                        think mi bf cheat me!!! t_t  "
      ]
     },
     "execution_count": 38,
     "metadata": {},
     "output_type": "execute_result"
    }
   ],
   "source": [
    "df.head(5)"
   ]
  },
  {
   "cell_type": "markdown",
   "metadata": {},
   "source": [
    "reference:\n",
    "\n",
    "https://towardsdatascience.com/basic-data-cleaning-engineering-session-twitter-sentiment-data-95e5bd2869ec\n",
    "\n",
    "https://github.com/rishabhverma17/sms_slang_translator"
   ]
  },
  {
   "cell_type": "code",
   "execution_count": null,
   "metadata": {},
   "outputs": [],
   "source": []
  }
 ],
 "metadata": {
  "kernelspec": {
   "display_name": "Python 3",
   "language": "python",
   "name": "python3"
  },
  "language_info": {
   "codemirror_mode": {
    "name": "ipython",
    "version": 3
   },
   "file_extension": ".py",
   "mimetype": "text/x-python",
   "name": "python",
   "nbconvert_exporter": "python",
   "pygments_lexer": "ipython3",
   "version": "3.6.6"
  }
 },
 "nbformat": 4,
 "nbformat_minor": 2
}
